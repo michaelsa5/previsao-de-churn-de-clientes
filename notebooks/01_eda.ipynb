{
 "cells": [
  {
   "cell_type": "markdown",
   "id": "7194ec50",
   "metadata": {},
   "source": [
    "# Previsão de Churn de Clientes\n"
   ]
  },
  {
   "cell_type": "markdown",
   "id": "cac94cd8",
   "metadata": {},
   "source": [
    "#### Carregando Bibliotecas"
   ]
  },
  {
   "cell_type": "code",
   "execution_count": 4,
   "id": "ba813e2e",
   "metadata": {},
   "outputs": [],
   "source": [
    "import pandas as pd\n",
    "import seaborn as sns\n",
    "import matplotlib.pyplot as plt\n"
   ]
  },
  {
   "cell_type": "markdown",
   "id": "7943d4b1",
   "metadata": {},
   "source": [
    "#### Carregando o dado\n"
   ]
  },
  {
   "cell_type": "code",
   "execution_count": 5,
   "id": "92db1590",
   "metadata": {},
   "outputs": [
    {
     "name": "stderr",
     "output_type": "stream",
     "text": [
      "<>:1: SyntaxWarning: invalid escape sequence '\\d'\n",
      "<>:1: SyntaxWarning: invalid escape sequence '\\d'\n",
      "C:\\Users\\Michael\\AppData\\Local\\Temp\\ipykernel_27652\\1849149580.py:1: SyntaxWarning: invalid escape sequence '\\d'\n",
      "  df = pd.read_csv('dados\\dado.csv') # Carregando o dados\n"
     ]
    },
    {
     "data": {
      "text/html": [
       "<div>\n",
       "<style scoped>\n",
       "    .dataframe tbody tr th:only-of-type {\n",
       "        vertical-align: middle;\n",
       "    }\n",
       "\n",
       "    .dataframe tbody tr th {\n",
       "        vertical-align: top;\n",
       "    }\n",
       "\n",
       "    .dataframe thead th {\n",
       "        text-align: right;\n",
       "    }\n",
       "</style>\n",
       "<table border=\"1\" class=\"dataframe\">\n",
       "  <thead>\n",
       "    <tr style=\"text-align: right;\">\n",
       "      <th></th>\n",
       "      <th>customerID</th>\n",
       "      <th>gender</th>\n",
       "      <th>SeniorCitizen</th>\n",
       "      <th>Partner</th>\n",
       "      <th>Dependents</th>\n",
       "      <th>tenure</th>\n",
       "      <th>PhoneService</th>\n",
       "      <th>MultipleLines</th>\n",
       "      <th>InternetService</th>\n",
       "      <th>OnlineSecurity</th>\n",
       "      <th>...</th>\n",
       "      <th>DeviceProtection</th>\n",
       "      <th>TechSupport</th>\n",
       "      <th>StreamingTV</th>\n",
       "      <th>StreamingMovies</th>\n",
       "      <th>Contract</th>\n",
       "      <th>PaperlessBilling</th>\n",
       "      <th>PaymentMethod</th>\n",
       "      <th>MonthlyCharges</th>\n",
       "      <th>TotalCharges</th>\n",
       "      <th>Churn</th>\n",
       "    </tr>\n",
       "  </thead>\n",
       "  <tbody>\n",
       "    <tr>\n",
       "      <th>0</th>\n",
       "      <td>7590-VHVEG</td>\n",
       "      <td>Female</td>\n",
       "      <td>0</td>\n",
       "      <td>Yes</td>\n",
       "      <td>No</td>\n",
       "      <td>1</td>\n",
       "      <td>No</td>\n",
       "      <td>No phone service</td>\n",
       "      <td>DSL</td>\n",
       "      <td>No</td>\n",
       "      <td>...</td>\n",
       "      <td>No</td>\n",
       "      <td>No</td>\n",
       "      <td>No</td>\n",
       "      <td>No</td>\n",
       "      <td>Month-to-month</td>\n",
       "      <td>Yes</td>\n",
       "      <td>Electronic check</td>\n",
       "      <td>29.85</td>\n",
       "      <td>29.85</td>\n",
       "      <td>No</td>\n",
       "    </tr>\n",
       "    <tr>\n",
       "      <th>1</th>\n",
       "      <td>5575-GNVDE</td>\n",
       "      <td>Male</td>\n",
       "      <td>0</td>\n",
       "      <td>No</td>\n",
       "      <td>No</td>\n",
       "      <td>34</td>\n",
       "      <td>Yes</td>\n",
       "      <td>No</td>\n",
       "      <td>DSL</td>\n",
       "      <td>Yes</td>\n",
       "      <td>...</td>\n",
       "      <td>Yes</td>\n",
       "      <td>No</td>\n",
       "      <td>No</td>\n",
       "      <td>No</td>\n",
       "      <td>One year</td>\n",
       "      <td>No</td>\n",
       "      <td>Mailed check</td>\n",
       "      <td>56.95</td>\n",
       "      <td>1889.5</td>\n",
       "      <td>No</td>\n",
       "    </tr>\n",
       "    <tr>\n",
       "      <th>2</th>\n",
       "      <td>3668-QPYBK</td>\n",
       "      <td>Male</td>\n",
       "      <td>0</td>\n",
       "      <td>No</td>\n",
       "      <td>No</td>\n",
       "      <td>2</td>\n",
       "      <td>Yes</td>\n",
       "      <td>No</td>\n",
       "      <td>DSL</td>\n",
       "      <td>Yes</td>\n",
       "      <td>...</td>\n",
       "      <td>No</td>\n",
       "      <td>No</td>\n",
       "      <td>No</td>\n",
       "      <td>No</td>\n",
       "      <td>Month-to-month</td>\n",
       "      <td>Yes</td>\n",
       "      <td>Mailed check</td>\n",
       "      <td>53.85</td>\n",
       "      <td>108.15</td>\n",
       "      <td>Yes</td>\n",
       "    </tr>\n",
       "    <tr>\n",
       "      <th>3</th>\n",
       "      <td>7795-CFOCW</td>\n",
       "      <td>Male</td>\n",
       "      <td>0</td>\n",
       "      <td>No</td>\n",
       "      <td>No</td>\n",
       "      <td>45</td>\n",
       "      <td>No</td>\n",
       "      <td>No phone service</td>\n",
       "      <td>DSL</td>\n",
       "      <td>Yes</td>\n",
       "      <td>...</td>\n",
       "      <td>Yes</td>\n",
       "      <td>Yes</td>\n",
       "      <td>No</td>\n",
       "      <td>No</td>\n",
       "      <td>One year</td>\n",
       "      <td>No</td>\n",
       "      <td>Bank transfer (automatic)</td>\n",
       "      <td>42.30</td>\n",
       "      <td>1840.75</td>\n",
       "      <td>No</td>\n",
       "    </tr>\n",
       "    <tr>\n",
       "      <th>4</th>\n",
       "      <td>9237-HQITU</td>\n",
       "      <td>Female</td>\n",
       "      <td>0</td>\n",
       "      <td>No</td>\n",
       "      <td>No</td>\n",
       "      <td>2</td>\n",
       "      <td>Yes</td>\n",
       "      <td>No</td>\n",
       "      <td>Fiber optic</td>\n",
       "      <td>No</td>\n",
       "      <td>...</td>\n",
       "      <td>No</td>\n",
       "      <td>No</td>\n",
       "      <td>No</td>\n",
       "      <td>No</td>\n",
       "      <td>Month-to-month</td>\n",
       "      <td>Yes</td>\n",
       "      <td>Electronic check</td>\n",
       "      <td>70.70</td>\n",
       "      <td>151.65</td>\n",
       "      <td>Yes</td>\n",
       "    </tr>\n",
       "  </tbody>\n",
       "</table>\n",
       "<p>5 rows × 21 columns</p>\n",
       "</div>"
      ],
      "text/plain": [
       "   customerID  gender  SeniorCitizen Partner Dependents  tenure PhoneService  \\\n",
       "0  7590-VHVEG  Female              0     Yes         No       1           No   \n",
       "1  5575-GNVDE    Male              0      No         No      34          Yes   \n",
       "2  3668-QPYBK    Male              0      No         No       2          Yes   \n",
       "3  7795-CFOCW    Male              0      No         No      45           No   \n",
       "4  9237-HQITU  Female              0      No         No       2          Yes   \n",
       "\n",
       "      MultipleLines InternetService OnlineSecurity  ... DeviceProtection  \\\n",
       "0  No phone service             DSL             No  ...               No   \n",
       "1                No             DSL            Yes  ...              Yes   \n",
       "2                No             DSL            Yes  ...               No   \n",
       "3  No phone service             DSL            Yes  ...              Yes   \n",
       "4                No     Fiber optic             No  ...               No   \n",
       "\n",
       "  TechSupport StreamingTV StreamingMovies        Contract PaperlessBilling  \\\n",
       "0          No          No              No  Month-to-month              Yes   \n",
       "1          No          No              No        One year               No   \n",
       "2          No          No              No  Month-to-month              Yes   \n",
       "3         Yes          No              No        One year               No   \n",
       "4          No          No              No  Month-to-month              Yes   \n",
       "\n",
       "               PaymentMethod MonthlyCharges  TotalCharges Churn  \n",
       "0           Electronic check          29.85         29.85    No  \n",
       "1               Mailed check          56.95        1889.5    No  \n",
       "2               Mailed check          53.85        108.15   Yes  \n",
       "3  Bank transfer (automatic)          42.30       1840.75    No  \n",
       "4           Electronic check          70.70        151.65   Yes  \n",
       "\n",
       "[5 rows x 21 columns]"
      ]
     },
     "execution_count": 5,
     "metadata": {},
     "output_type": "execute_result"
    }
   ],
   "source": [
    "df = pd.read_csv('dados\\dado.csv') # Carregando o dados \n",
    "df.head() #visualizando as 5 primeiras linhas do dados\n"
   ]
  },
  {
   "cell_type": "markdown",
   "id": "e1cc2392",
   "metadata": {},
   "source": [
    "## Limpeza do dados"
   ]
  },
  {
   "cell_type": "markdown",
   "id": "fa3f69bc",
   "metadata": {},
   "source": [
    "### Informações das variáveis"
   ]
  },
  {
   "cell_type": "code",
   "execution_count": 63,
   "id": "2dc195f8",
   "metadata": {},
   "outputs": [
    {
     "name": "stdout",
     "output_type": "stream",
     "text": [
      "<class 'pandas.core.frame.DataFrame'>\n",
      "RangeIndex: 7043 entries, 0 to 7042\n",
      "Data columns (total 21 columns):\n",
      " #   Column            Non-Null Count  Dtype  \n",
      "---  ------            --------------  -----  \n",
      " 0   customerID        7043 non-null   object \n",
      " 1   gender            7043 non-null   object \n",
      " 2   SeniorCitizen     7043 non-null   int64  \n",
      " 3   Partner           7043 non-null   object \n",
      " 4   Dependents        7043 non-null   object \n",
      " 5   tenure            7043 non-null   int64  \n",
      " 6   PhoneService      7043 non-null   object \n",
      " 7   MultipleLines     7043 non-null   object \n",
      " 8   InternetService   7043 non-null   object \n",
      " 9   OnlineSecurity    7043 non-null   object \n",
      " 10  OnlineBackup      7043 non-null   object \n",
      " 11  DeviceProtection  7043 non-null   object \n",
      " 12  TechSupport       7043 non-null   object \n",
      " 13  StreamingTV       7043 non-null   object \n",
      " 14  StreamingMovies   7043 non-null   object \n",
      " 15  Contract          7043 non-null   object \n",
      " 16  PaperlessBilling  7043 non-null   object \n",
      " 17  PaymentMethod     7043 non-null   object \n",
      " 18  MonthlyCharges    7043 non-null   float64\n",
      " 19  TotalCharges      7043 non-null   object \n",
      " 20  Churn             7043 non-null   object \n",
      "dtypes: float64(1), int64(2), object(18)\n",
      "memory usage: 1.1+ MB\n"
     ]
    }
   ],
   "source": [
    "df.info() #tipos de dados\n"
   ]
  },
  {
   "cell_type": "markdown",
   "id": "f1f7e62e",
   "metadata": {},
   "source": [
    "### Vendo se há dados nullos"
   ]
  },
  {
   "cell_type": "code",
   "execution_count": 64,
   "id": "61f4d7d5",
   "metadata": {},
   "outputs": [
    {
     "data": {
      "text/plain": [
       "customerID          0\n",
       "gender              0\n",
       "SeniorCitizen       0\n",
       "Partner             0\n",
       "Dependents          0\n",
       "tenure              0\n",
       "PhoneService        0\n",
       "MultipleLines       0\n",
       "InternetService     0\n",
       "OnlineSecurity      0\n",
       "OnlineBackup        0\n",
       "DeviceProtection    0\n",
       "TechSupport         0\n",
       "StreamingTV         0\n",
       "StreamingMovies     0\n",
       "Contract            0\n",
       "PaperlessBilling    0\n",
       "PaymentMethod       0\n",
       "MonthlyCharges      0\n",
       "TotalCharges        0\n",
       "Churn               0\n",
       "dtype: int64"
      ]
     },
     "execution_count": 64,
     "metadata": {},
     "output_type": "execute_result"
    }
   ],
   "source": [
    "df.isnull().sum() #valores nulos"
   ]
  },
  {
   "cell_type": "markdown",
   "id": "17ad098d",
   "metadata": {},
   "source": [
    "### Verificando todos os valores únicos de cada coluna para ver se há preenchido com valores errados ou em branco."
   ]
  },
  {
   "cell_type": "code",
   "execution_count": null,
   "id": "b7737ef2",
   "metadata": {},
   "outputs": [
    {
     "name": "stdout",
     "output_type": "stream",
     "text": [
      "Coluna: customerID\n",
      "['7590-VHVEG' '5575-GNVDE' '3668-QPYBK' ... '4801-JZAZL' '8361-LTMKD'\n",
      " '3186-AJIEK']\n",
      "--------------------------------------------------\n",
      "Coluna: gender\n",
      "['Female' 'Male']\n",
      "--------------------------------------------------\n",
      "Coluna: SeniorCitizen\n",
      "[0 1]\n",
      "--------------------------------------------------\n",
      "Coluna: Partner\n",
      "['Yes' 'No']\n",
      "--------------------------------------------------\n",
      "Coluna: Dependents\n",
      "['No' 'Yes']\n",
      "--------------------------------------------------\n",
      "Coluna: tenure\n",
      "[ 1 34  2 45  8 22 10 28 62 13 16 58 49 25 69 52 71 21 12 30 47 72 17 27\n",
      "  5 46 11 70 63 43 15 60 18 66  9  3 31 50 64 56  7 42 35 48 29 65 38 68\n",
      " 32 55 37 36 41  6  4 33 67 23 57 61 14 20 53 40 59 24 44 19 54 51 26  0\n",
      " 39]\n",
      "--------------------------------------------------\n",
      "Coluna: PhoneService\n",
      "['No' 'Yes']\n",
      "--------------------------------------------------\n",
      "Coluna: MultipleLines\n",
      "['No phone service' 'No' 'Yes']\n",
      "--------------------------------------------------\n",
      "Coluna: InternetService\n",
      "['DSL' 'Fiber optic' 'No']\n",
      "--------------------------------------------------\n",
      "Coluna: OnlineSecurity\n",
      "['No' 'Yes' 'No internet service']\n",
      "--------------------------------------------------\n",
      "Coluna: OnlineBackup\n",
      "['Yes' 'No' 'No internet service']\n",
      "--------------------------------------------------\n",
      "Coluna: DeviceProtection\n",
      "['No' 'Yes' 'No internet service']\n",
      "--------------------------------------------------\n",
      "Coluna: TechSupport\n",
      "['No' 'Yes' 'No internet service']\n",
      "--------------------------------------------------\n",
      "Coluna: StreamingTV\n",
      "['No' 'Yes' 'No internet service']\n",
      "--------------------------------------------------\n",
      "Coluna: StreamingMovies\n",
      "['No' 'Yes' 'No internet service']\n",
      "--------------------------------------------------\n",
      "Coluna: Contract\n",
      "['Month-to-month' 'One year' 'Two year']\n",
      "--------------------------------------------------\n",
      "Coluna: PaperlessBilling\n",
      "['Yes' 'No']\n",
      "--------------------------------------------------\n",
      "Coluna: PaymentMethod\n",
      "['Electronic check' 'Mailed check' 'Bank transfer (automatic)'\n",
      " 'Credit card (automatic)']\n",
      "--------------------------------------------------\n",
      "Coluna: MonthlyCharges\n",
      "[29.85 56.95 53.85 ... 63.1  44.2  78.7 ]\n",
      "--------------------------------------------------\n",
      "Coluna: TotalCharges\n",
      "['29.85' '1889.5' '108.15' ... '346.45' '306.6' '6844.5']\n",
      "--------------------------------------------------\n",
      "Coluna: Churn\n",
      "['No' 'Yes']\n",
      "--------------------------------------------------\n"
     ]
    }
   ],
   "source": [
    "\n",
    "for coluna in df.columns:\n",
    "    print(f\"Coluna: {coluna}\")\n",
    "    print(df[coluna].unique())\n",
    "    print(\"-\" * 50)"
   ]
  },
  {
   "cell_type": "markdown",
   "id": "c07d68cd",
   "metadata": {},
   "source": [
    "### Verificando todos os valores únicos de cada coluna para ver se há preenchido com valores errados ou em branco."
   ]
  },
  {
   "cell_type": "code",
   "execution_count": null,
   "id": "dd611775",
   "metadata": {},
   "outputs": [
    {
     "name": "stdout",
     "output_type": "stream",
     "text": [
      "True\n"
     ]
    }
   ],
   "source": [
    "\n",
    "print(df['TotalCharges'].astype(str).str.isspace().any())"
   ]
  },
  {
   "cell_type": "markdown",
   "id": "7f408c07",
   "metadata": {},
   "source": [
    "### Descobrindo quais linhas estão com TotalCharges vazio."
   ]
  },
  {
   "cell_type": "code",
   "execution_count": null,
   "id": "f460a82a",
   "metadata": {},
   "outputs": [
    {
     "name": "stdout",
     "output_type": "stream",
     "text": [
      "      customerID  gender  SeniorCitizen Partner Dependents  tenure  \\\n",
      "488   4472-LVYGI  Female              0     Yes        Yes       0   \n",
      "753   3115-CZMZD    Male              0      No        Yes       0   \n",
      "936   5709-LVOEQ  Female              0     Yes        Yes       0   \n",
      "1082  4367-NUYAO    Male              0     Yes        Yes       0   \n",
      "1340  1371-DWPAZ  Female              0     Yes        Yes       0   \n",
      "3331  7644-OMVMY    Male              0     Yes        Yes       0   \n",
      "3826  3213-VVOLG    Male              0     Yes        Yes       0   \n",
      "4380  2520-SGTTA  Female              0     Yes        Yes       0   \n",
      "5218  2923-ARZLG    Male              0     Yes        Yes       0   \n",
      "6670  4075-WKNIU  Female              0     Yes        Yes       0   \n",
      "6754  2775-SEFEE    Male              0      No        Yes       0   \n",
      "\n",
      "     PhoneService     MultipleLines InternetService       OnlineSecurity  ...  \\\n",
      "488            No  No phone service             DSL                  Yes  ...   \n",
      "753           Yes                No              No  No internet service  ...   \n",
      "936           Yes                No             DSL                  Yes  ...   \n",
      "1082          Yes               Yes              No  No internet service  ...   \n",
      "1340           No  No phone service             DSL                  Yes  ...   \n",
      "3331          Yes                No              No  No internet service  ...   \n",
      "3826          Yes               Yes              No  No internet service  ...   \n",
      "4380          Yes                No              No  No internet service  ...   \n",
      "5218          Yes                No              No  No internet service  ...   \n",
      "6670          Yes               Yes             DSL                   No  ...   \n",
      "6754          Yes               Yes             DSL                  Yes  ...   \n",
      "\n",
      "         DeviceProtection          TechSupport          StreamingTV  \\\n",
      "488                   Yes                  Yes                  Yes   \n",
      "753   No internet service  No internet service  No internet service   \n",
      "936                   Yes                   No                  Yes   \n",
      "1082  No internet service  No internet service  No internet service   \n",
      "1340                  Yes                  Yes                  Yes   \n",
      "3331  No internet service  No internet service  No internet service   \n",
      "3826  No internet service  No internet service  No internet service   \n",
      "4380  No internet service  No internet service  No internet service   \n",
      "5218  No internet service  No internet service  No internet service   \n",
      "6670                  Yes                  Yes                  Yes   \n",
      "6754                   No                  Yes                   No   \n",
      "\n",
      "          StreamingMovies  Contract PaperlessBilling  \\\n",
      "488                    No  Two year              Yes   \n",
      "753   No internet service  Two year               No   \n",
      "936                   Yes  Two year               No   \n",
      "1082  No internet service  Two year               No   \n",
      "1340                   No  Two year               No   \n",
      "3331  No internet service  Two year               No   \n",
      "3826  No internet service  Two year               No   \n",
      "4380  No internet service  Two year               No   \n",
      "5218  No internet service  One year              Yes   \n",
      "6670                   No  Two year               No   \n",
      "6754                   No  Two year              Yes   \n",
      "\n",
      "                  PaymentMethod MonthlyCharges  TotalCharges Churn  \n",
      "488   Bank transfer (automatic)          52.55                  No  \n",
      "753                Mailed check          20.25                  No  \n",
      "936                Mailed check          80.85                  No  \n",
      "1082               Mailed check          25.75                  No  \n",
      "1340    Credit card (automatic)          56.05                  No  \n",
      "3331               Mailed check          19.85                  No  \n",
      "3826               Mailed check          25.35                  No  \n",
      "4380               Mailed check          20.00                  No  \n",
      "5218               Mailed check          19.70                  No  \n",
      "6670               Mailed check          73.35                  No  \n",
      "6754  Bank transfer (automatic)          61.90                  No  \n",
      "\n",
      "[11 rows x 21 columns]\n"
     ]
    }
   ],
   "source": [
    "\n",
    "linha_em_branco = df[df['TotalCharges'].astype(str).str.strip() == \"\"]\n",
    "print(linha_em_branco)"
   ]
  },
  {
   "cell_type": "markdown",
   "id": "6433f6ef",
   "metadata": {},
   "source": [
    "### # Como são 11 linhas com valores vazios com a tabela \"tenure\" = 0 resolvei preencher a coluna TotalCharges = 0"
   ]
  },
  {
   "cell_type": "code",
   "execution_count": null,
   "id": "ad6935c2",
   "metadata": {},
   "outputs": [],
   "source": [
    "\n",
    "df['TotalCharges'] = df['TotalCharges'].replace(' ',float('0'))\n"
   ]
  },
  {
   "cell_type": "markdown",
   "id": "f68330d7",
   "metadata": {},
   "source": [
    "### Converte a coluna TotalCharges para numérico"
   ]
  },
  {
   "cell_type": "code",
   "execution_count": null,
   "id": "ba84e348",
   "metadata": {},
   "outputs": [
    {
     "name": "stdout",
     "output_type": "stream",
     "text": [
      "<class 'pandas.core.frame.DataFrame'>\n",
      "RangeIndex: 7043 entries, 0 to 7042\n",
      "Data columns (total 21 columns):\n",
      " #   Column            Non-Null Count  Dtype  \n",
      "---  ------            --------------  -----  \n",
      " 0   customerID        7043 non-null   object \n",
      " 1   gender            7043 non-null   object \n",
      " 2   SeniorCitizen     7043 non-null   int64  \n",
      " 3   Partner           7043 non-null   object \n",
      " 4   Dependents        7043 non-null   object \n",
      " 5   tenure            7043 non-null   int64  \n",
      " 6   PhoneService      7043 non-null   object \n",
      " 7   MultipleLines     7043 non-null   object \n",
      " 8   InternetService   7043 non-null   object \n",
      " 9   OnlineSecurity    7043 non-null   object \n",
      " 10  OnlineBackup      7043 non-null   object \n",
      " 11  DeviceProtection  7043 non-null   object \n",
      " 12  TechSupport       7043 non-null   object \n",
      " 13  StreamingTV       7043 non-null   object \n",
      " 14  StreamingMovies   7043 non-null   object \n",
      " 15  Contract          7043 non-null   object \n",
      " 16  PaperlessBilling  7043 non-null   object \n",
      " 17  PaymentMethod     7043 non-null   object \n",
      " 18  MonthlyCharges    7043 non-null   float64\n",
      " 19  TotalCharges      7043 non-null   float64\n",
      " 20  Churn             7043 non-null   object \n",
      "dtypes: float64(2), int64(2), object(17)\n",
      "memory usage: 1.1+ MB\n"
     ]
    }
   ],
   "source": [
    "\n",
    "df['TotalCharges'] = pd.to_numeric(df[\"TotalCharges\"])\n",
    "df.info()"
   ]
  },
  {
   "cell_type": "markdown",
   "id": "961786c5",
   "metadata": {},
   "source": [
    "### Transformar variáveis categóricas"
   ]
  },
  {
   "cell_type": "code",
   "execution_count": null,
   "id": "8440ef17",
   "metadata": {},
   "outputs": [],
   "source": [
    "\n",
    "df[\"Churn\"] = df[\"Churn\"].map({\"Yes\": 1, \"No\": 0})\n",
    "df[\"gender\"] = df[\"gender\"].map({\"Female\": 0, \"Male\": 1})\n",
    "df[\"Partner\"] = df[\"Partner\"].map({\"Yes\": 1, \"No\": 0})\n",
    "df[\"Dependents\"] = df[\"Dependents\"].map({\"Yes\": 1, \"No\": 0})\n",
    "df[\"PhoneService\"] = df[\"PhoneService\"].map({\"Yes\": 1, \"No\": 0})\n",
    "df[\"MultipleLines\"] = df[\"MultipleLines\"].map({\"No phone service\": -1, \"Yes\": 1, \"No\": 0})\n",
    "df[\"InternetService\"] = df[\"InternetService\"].map({\"Fiber optic\": 2, \"DSL\": 1, \"No\": 0})\n",
    "df[\"OnlineSecurity\"] = df[\"OnlineSecurity\"].map({\"No internet service\": -1, \"Yes\": 1, \"No\": 0})\n",
    "df[\"OnlineBackup\"] = df[\"OnlineBackup\"].map({\"No internet service\": -1, \"Yes\": 1, \"No\": 0})\n",
    "df[\"DeviceProtection\"] = df[\"DeviceProtection\"].map({\"No internet service\": -1, \"Yes\": 1, \"No\": 0})\n",
    "df[\"TechSupport\"] = df[\"TechSupport\"].map({\"No internet service\": -1, \"Yes\": 1, \"No\": 0})\n",
    "df[\"StreamingTV\"] = df[\"StreamingTV\"].map({\"No internet service\": -1, \"Yes\": 1, \"No\": 0})\n",
    "df[\"StreamingMovies\"] = df[\"StreamingMovies\"].map({\"No internet service\": -1, \"Yes\": 1, \"No\": 0})\n",
    "df[\"Contract\"] = df[\"Contract\"].map({\"Month-to-month\": 0, \"One year\": 1, \"Two year\": 2})  \n",
    "df[\"PaperlessBilling\"] = df[\"PaperlessBilling\"].map({\"Yes\": 1, \"No\": 0})\n",
    "df[\"PaymentMethod\"] = df[\"PaymentMethod\"].map({\n",
    "    \"Electronic check\": 0,\n",
    "    \"Mailed check\": 1,\n",
    "    \"Bank transfer (automatic)\": 2, \n",
    "    \"Credit card (automatic)\": 3\n",
    "})"
   ]
  },
  {
   "cell_type": "markdown",
   "id": "dda595f7",
   "metadata": {},
   "source": [
    "## ANÁLISE EXPLORATÓRIA (EDA)"
   ]
  },
  {
   "cell_type": "markdown",
   "id": "36be3536",
   "metadata": {},
   "source": [
    "### Distribuição do target (Churn)"
   ]
  },
  {
   "cell_type": "code",
   "execution_count": null,
   "id": "261fbd31",
   "metadata": {},
   "outputs": [
    {
     "name": "stderr",
     "output_type": "stream",
     "text": [
      "C:\\Users\\Michael\\AppData\\Local\\Temp\\ipykernel_26060\\228800010.py:5: FutureWarning: \n",
      "\n",
      "Passing `palette` without assigning `hue` is deprecated and will be removed in v0.14.0. Assign the `x` variable to `hue` and set `legend=False` for the same effect.\n",
      "\n",
      "  ax = sns.countplot(x='Churn', data=df, palette=\"Set2\")\n"
     ]
    },
    {
     "data": {
      "image/png": "[encoded data removed]",
      "text/plain": [
       "<Figure size 640x480 with 1 Axes>"
      ]
     },
     "metadata": {},
     "output_type": "display_data"
    }
   ],
   "source": [
    "\n",
    "total = len(df)\n",
    "\n",
    "\n",
    "ax = sns.countplot(x='Churn', data=df, palette=\"Set2\")\n",
    "plt.title(\"Distribuição do Churn\")\n",
    "plt.xlabel(\"Cancelou? (1=Sim)\")\n",
    "plt.ylabel(\"Número de Clientes\", fontsize=12)\n",
    "\n",
    "\n",
    "for p in ax.patches:\n",
    "    height = p.get_height()\n",
    "    percentage = f'{100 * height / total:.2f}%'\n",
    "    ax.annotate(percentage, \n",
    "                (p.get_x() + p.get_width() / 2., height),\n",
    "                ha='center', va='bottom', fontsize=10)\n",
    "\n",
    "plt.show()\n"
   ]
  },
  {
   "cell_type": "markdown",
   "id": "b5f9b5e9",
   "metadata": {},
   "source": [
    "\n",
    "Churn total: 26,53%\n",
    "\n",
    "A maioria dos clientes permanece na base (73,47%).\n",
    "\n",
    "Isso indica uma taxa de retenção relativamente boa, mas ainda assim o churn é significativo e merece atenção — especialmente para contratos mensais, como vimos anteriormente."
   ]
  },
  {
   "cell_type": "markdown",
   "id": "407e9438",
   "metadata": {},
   "source": [
    "### Análise por contrato"
   ]
  },
  {
   "cell_type": "code",
   "execution_count": null,
   "id": "994219f5",
   "metadata": {},
   "outputs": [
    {
     "name": "stderr",
     "output_type": "stream",
     "text": [
      "C:\\Users\\Michael\\AppData\\Local\\Temp\\ipykernel_26060\\4247474383.py:3: UserWarning: set_ticklabels() should only be used with a fixed number of ticks, i.e. after set_ticks() or using a FixedLocator.\n",
      "  ax.set_xticklabels(['Mensal', 'Anual', 'Bianual'])\n"
     ]
    },
    {
     "data": {
      "image/png": "[encoded data removed]",
      "text/plain": [
       "<Figure size 1000x600 with 1 Axes>"
      ]
     },
     "metadata": {},
     "output_type": "display_data"
    }
   ],
   "source": [
    "\n",
    "plt.figure(figsize=(10, 6))\n",
    "ax = sns.countplot(x='Contract', hue='Churn', data=df, palette=\"Set2\")\n",
    "ax.set_xticklabels(['Mensal', 'Anual', 'Bianual'])\n",
    "plt.title(\"Churn por Tipo de Contrato\", fontsize=16, pad=20)\n",
    "plt.xlabel(\"Tipo de Contrato\", fontsize=12)\n",
    "plt.ylabel(\"Número de Clientes\", fontsize=12)\n",
    "\n",
    "plt.legend(title='Churn', labels=['Não', 'Sim'], bbox_to_anchor=(1.05, 1), loc='upper left')\n",
    "\n",
    "\n",
    "x_categories = list(df['Contract'].unique())  \n",
    "\n",
    "# Cria um dicionário de totais por categoria\n",
    "contract_totals = df['Contract'].value_counts().to_dict()\n",
    "\n",
    "\n",
    "for p in ax.patches:\n",
    "    height = p.get_height()\n",
    "    x_pos = p.get_x() + p.get_width() / 2.\n",
    "    bar_index = int(round(x_pos))\n",
    "    \n",
    "    if bar_index < len(x_categories):\n",
    "        contract_label = x_categories[bar_index]\n",
    "        total = contract_totals.get(contract_label, 0)\n",
    "\n",
    "        if total > 0:\n",
    "            percentage = f'{100 * height / total:.2f}%'\n",
    "            ax.annotate(percentage, \n",
    "                        (p.get_x() + p.get_width() / 2., height),\n",
    "                        ha='center', va='bottom', fontsize=10)\n",
    "\n",
    "plt.tight_layout()\n",
    "plt.show()\n"
   ]
  },
  {
   "cell_type": "markdown",
   "id": "e47af5e9",
   "metadata": {},
   "source": [
    "| Tipo de Contrato | Taxa de Churn (%) |\n",
    "| ---------------- | ----------------- |\n",
    "| Mensal           | **42,71%**        |\n",
    "| Anual            | **11,27%**        |\n",
    "| Bianual          | **2,83%**         |\n",
    "\n",
    "O gráfico revela uma relação inversa entre a duração do contrato e a taxa de churn: quanto mais longo o contrato, menor a probabilidade de cancelamento. Contratos mensais apresentam maior vulnerabilidade ao churn, enquanto contratos bianuais são os mais estáveis."
   ]
  },
  {
   "cell_type": "markdown",
   "id": "79e9c44f",
   "metadata": {},
   "source": [
    "### Salvando dados para modelagem"
   ]
  },
  {
   "cell_type": "code",
   "execution_count": 102,
   "id": "9cabeb36",
   "metadata": {},
   "outputs": [],
   "source": [
    "import pandas as pd\n",
    "\n",
    "# Suponha que 'df' seja o DataFrame com os dados preparados\n",
    "df.to_csv('dados/dados_preparados.csv', index=False)\n"
   ]
  }
 ],
 "metadata": {
  "kernelspec": {
   "display_name": "base",
   "language": "python",
   "name": "python3"
  },
  "language_info": {
   "codemirror_mode": {
    "name": "ipython",
    "version": 3
   },
   "file_extension": ".py",
   "mimetype": "text/x-python",
   "name": "python",
   "nbconvert_exporter": "python",
   "pygments_lexer": "ipython3",
   "version": "3.12.7"
  }
 },
 "nbformat": 4,
 "nbformat_minor": 5
}
